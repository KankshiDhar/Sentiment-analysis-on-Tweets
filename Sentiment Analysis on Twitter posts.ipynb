{
 "cells": [
  {
   "cell_type": "code",
   "execution_count": 5,
   "metadata": {},
   "outputs": [
    {
     "name": "stdout",
     "output_type": "stream",
     "text": [
      "Collecting vaderSentiment\n",
      "  Downloading https://files.pythonhosted.org/packages/86/9e/c53e1fc61aac5ee490a6ac5e21b1ac04e55a7c2aba647bb8411c9aadf24e/vaderSentiment-3.2.1-py2.py3-none-any.whl (125kB)\n",
      "Installing collected packages: vaderSentiment\n",
      "Successfully installed vaderSentiment-3.2.1\n"
     ]
    }
   ],
   "source": [
    "!pip install vaderSentiment"
   ]
  },
  {
   "cell_type": "code",
   "execution_count": 1,
   "metadata": {},
   "outputs": [],
   "source": [
    "from vaderSentiment.vaderSentiment import SentimentIntensityAnalyzer"
   ]
  },
  {
   "cell_type": "code",
   "execution_count": 2,
   "metadata": {},
   "outputs": [],
   "source": [
    "import scipy"
   ]
  },
  {
   "cell_type": "code",
   "execution_count": 3,
   "metadata": {},
   "outputs": [],
   "source": [
    "group = [\n",
    "\"Why did I use twitter in 2019? #SentimentAnalysis Assignment \",\n",
    "\n",
    "\"Friend in Diwali- Meri company ne bonus diya, candle diya, barfi diya, Ganpati ka frame diya. Teri Company ne kya diya? Me - Kabhi kabhi on time salary aur beech beech me Depression deti hai\",\n",
    "\n",
    "\"What kinda life do you even lead when the most excited you've been in 72hrs is when you find a new toothpaste in your bathroom\",\n",
    "        \n",
    "\"Some days I write alright.Other days I call 'Suffocation' - The feeling where your chest is feeling pregnant\",\n",
    "         \n",
    "\"What's your name? Kankshi Kanchi? Kanshi? Akanshi? Akansha? Yeah. Akanshi.\",\n",
    "        \n",
    "\"Le Me : *unfollow* Triggered people : *Reports my account*\",\n",
    "        \n",
    "\"If women who hold power, do this, what hope do civilians have?\",\n",
    "       \n",
    "\"How many toppers of 12th std have actually became future innovator,economicst, scientist etc\",\n",
    "         \n",
    "\"Everytime an aunt suggests that I should get married, I'm responding with 'You should get divorced & remarry cos your marriage is shit'\",\n",
    "        \n",
    "\"Driving in Mumbai requires 40% skills and 60% patience to not verbally bash someone\"      \n",
    "        ]"
   ]
  },
  {
   "cell_type": "code",
   "execution_count": 4,
   "metadata": {},
   "outputs": [],
   "source": [
    "analyzer = SentimentIntensityAnalyzer()"
   ]
  },
  {
   "cell_type": "code",
   "execution_count": 6,
   "metadata": {},
   "outputs": [
    {
     "name": "stdout",
     "output_type": "stream",
     "text": [
      "Why did I use twitter in 2019? #SentimentAnalysis Assignment ---- {'neg': 0.0, 'neu': 1.0, 'pos': 0.0, 'compound': 0.0}\n",
      "Friend in Diwali- Meri company ne bonus diya, candle diya, barfi diya, Ganpati ka frame diya. Teri Company ne kya diya? Me - Kabhi kabhi on time salary aur beech beech me Depression deti hai {'neg': 0.089, 'neu': 0.749, 'pos': 0.162, 'compound': 0.4588}\n",
      "What kinda life do you even lead when the most excited you've been in 72hrs is when you find a new toothpaste in your bathroom {'neg': 0.0, 'neu': 0.895, 'pos': 0.105, 'compound': 0.4005}\n",
      "Some days I write alright.Other days I call 'Suffocation' - The feeling where your chest is feeling pregnant {'neg': 0.0, 'neu': 0.812, 'pos': 0.188, 'compound': 0.25}\n",
      "What's your name? Kankshi Kanchi? Kanshi? Akanshi? Akansha? Yeah. Akanshi. {'neg': 0.0, 'neu': 0.74, 'pos': 0.26, 'compound': 0.4871}\n",
      "Le Me : *unfollow* Triggered people : *Reports my account*------- {'neg': 0.0, 'neu': 1.0, 'pos': 0.0, 'compound': 0.0}\n",
      "If women who hold power, do this, what hope do civilians have?--- {'neg': 0.0, 'neu': 0.791, 'pos': 0.209, 'compound': 0.4404}\n",
      "How many toppers of 12th std have actually became future innovator,economicst, scientist etc {'neg': 0.0, 'neu': 1.0, 'pos': 0.0, 'compound': 0.0}\n",
      "Everytime an aunt suggests that I should get married, I'm responding with 'You should get divorced & remarry cos your marriage is shit' {'neg': 0.153, 'neu': 0.847, 'pos': 0.0, 'compound': -0.5574}\n",
      "Driving in Mumbai requires 40% skills and 60% patience to not verbally bash someone {'neg': 0.0, 'neu': 1.0, 'pos': 0.0, 'compound': 0.0}\n"
     ]
    }
   ],
   "source": [
    "positivesg = [] \n",
    "negativesg = [] \n",
    "for txt in group:\n",
    "    vs = analyzer.polarity_scores(txt) \n",
    "    print(\"{:-<65} {}\".format(txt, str(vs)))\n",
    "    positivesg.append(vs['pos'])\n",
    "    negativesg.append(vs['neg'])"
   ]
  },
  {
   "cell_type": "code",
   "execution_count": 7,
   "metadata": {},
   "outputs": [
    {
     "ename": "NameError",
     "evalue": "name 'stats' is not defined",
     "output_type": "error",
     "traceback": [
      "\u001b[1;31m---------------------------------------------------------------------------\u001b[0m",
      "\u001b[1;31mNameError\u001b[0m                                 Traceback (most recent call last)",
      "\u001b[1;32m<ipython-input-7-f1c9d3883e91>\u001b[0m in \u001b[0;36m<module>\u001b[1;34m()\u001b[0m\n\u001b[1;32m----> 1\u001b[1;33m \u001b[0mprint\u001b[0m\u001b[1;33m(\u001b[0m\u001b[0mstats\u001b[0m\u001b[1;33m.\u001b[0m\u001b[0mpearsonr\u001b[0m\u001b[1;33m(\u001b[0m\u001b[0mpositivesg\u001b[0m\u001b[1;33m,\u001b[0m\u001b[0mnegativesg\u001b[0m\u001b[1;33m)\u001b[0m\u001b[1;33m)\u001b[0m\u001b[1;33m\u001b[0m\u001b[0m\n\u001b[0m",
      "\u001b[1;31mNameError\u001b[0m: name 'stats' is not defined"
     ]
    }
   ],
   "source": [
    "print(stats.pearsonr(positivesg,negativesg))"
   ]
  },
  {
   "cell_type": "code",
   "execution_count": 8,
   "metadata": {},
   "outputs": [],
   "source": [
    "from scipy import stats"
   ]
  },
  {
   "cell_type": "code",
   "execution_count": 9,
   "metadata": {},
   "outputs": [
    {
     "name": "stdout",
     "output_type": "stream",
     "text": [
      "(-0.15855290294362606, 0.6617538783527698)\n"
     ]
    }
   ],
   "source": [
    "print(stats.pearsonr(positivesg,negativesg))"
   ]
  },
  {
   "cell_type": "code",
   "execution_count": null,
   "metadata": {},
   "outputs": [],
   "source": []
  }
 ],
 "metadata": {
  "kernelspec": {
   "display_name": "Python 3",
   "language": "python",
   "name": "python3"
  },
  "language_info": {
   "codemirror_mode": {
    "name": "ipython",
    "version": 3
   },
   "file_extension": ".py",
   "mimetype": "text/x-python",
   "name": "python",
   "nbconvert_exporter": "python",
   "pygments_lexer": "ipython3",
   "version": "3.6.5"
  }
 },
 "nbformat": 4,
 "nbformat_minor": 2
}
